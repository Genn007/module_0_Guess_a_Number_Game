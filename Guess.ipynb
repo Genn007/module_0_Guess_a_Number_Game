{
 "cells": [
  {
   "cell_type": "markdown",
   "metadata": {
    "collapsed": true,
    "pycharm": {
     "name": "#%% md\n"
    }
   },
   "source": [
    "# Учебная \"игра\" угадывания номера\n",
    "\n",
    "Исходные данные - неизвестное число и границы его местоположения ( в задаче 1..99).\n",
    "Использую простой алгоритм: Сначала проверяю - не равно ли число одной из границ. Затем разделяю исходные границы на два отрезка. Если неизвестное число равно серединке - выход. Иначе проверяю принадлежности неизвестного числа к одному из отрезков. Дальше принимаются новые границы и процедура повтоляется.\n",
    "\n",
    "Средняя сходимость наверное будет порядка двоичного логарифма от ширины первоначальных границ."
   ]
  },
  {
   "cell_type": "code",
   "execution_count": 18,
   "outputs": [],
   "source": [
    "import numpy as np"
   ],
   "metadata": {
    "collapsed": false,
    "pycharm": {
     "name": "#%%\n"
    }
   }
  },
  {
   "cell_type": "code",
   "execution_count": 38,
   "outputs": [],
   "source": [
    "def guess(number):\n",
    "    cnt = 0\n",
    "    lo = 1\n",
    "    hi = 100\n",
    "    if (number < lo) or (number > hi):   #проверка допустимости границ\n",
    "        return 0\n",
    "    if (number == lo) :  #проверка числа на первой границе\n",
    "        return 1\n",
    "    elif (number == hi): #проверка числа на второй границе\n",
    "        return 2\n",
    "    else:\n",
    "        cnt = 2\n",
    "    while True:\n",
    "        cnt += 1\n",
    "        dist = (hi-lo)/2\n",
    "        num = round(lo+dist)\n",
    "#        print( lo, hi, dist, num, number)    # Это отладочная печать границ диапазона\n",
    "        if num == number:\n",
    "            return cnt\n",
    "        if number < num:\n",
    "            hi = num\n",
    "        else:\n",
    "            lo = num\n",
    "    return -1"
   ],
   "metadata": {
    "collapsed": false,
    "pycharm": {
     "name": "#%%\n"
    }
   }
  },
  {
   "cell_type": "markdown",
   "source": [
    "Две проверки на четное и нечетное число."
   ],
   "metadata": {
    "collapsed": false
   }
  },
  {
   "cell_type": "code",
   "execution_count": 39,
   "outputs": [
    {
     "name": "stdout",
     "output_type": "stream",
     "text": [
      "17 7\n"
     ]
    }
   ],
   "source": [
    "print( 17, guess(17))"
   ],
   "metadata": {
    "collapsed": false,
    "pycharm": {
     "name": "#%%\n"
    }
   }
  },
  {
   "cell_type": "code",
   "execution_count": 40,
   "outputs": [
    {
     "name": "stdout",
     "output_type": "stream",
     "text": [
      "18 8\n"
     ]
    }
   ],
   "source": [
    "print( 18, guess(18))"
   ],
   "metadata": {
    "collapsed": false,
    "pycharm": {
     "name": "#%%\n"
    }
   }
  },
  {
   "cell_type": "code",
   "execution_count": 42,
   "outputs": [
    {
     "name": "stdout",
     "output_type": "stream",
     "text": [
      "Алгоритм угадывает число в среднем за 7.641 попыток\n"
     ]
    }
   ],
   "source": [
    "count_ls = []\n",
    "np.random.seed(1)  # фиксируем RANDOM SEED, чтобы эксперимент был воспроизводим!\n",
    "random_array = np.random.randint(1,101, size=(1000))\n",
    "for number in random_array:\n",
    "#    print(number)\n",
    "    count_ls.append(guess(number))\n",
    "score = round(np.mean(count_ls),3)  # мне интересен такой формат результата\n",
    "print(f\"Алгоритм угадывает число в среднем за {score} попыток\")"
   ],
   "metadata": {
    "collapsed": false,
    "pycharm": {
     "name": "#%%\n"
    }
   }
  },
  {
   "cell_type": "markdown",
   "source": [
    "Вывод: Если не считать две первые проверки, алгоритм сходится чуть быстрее чем предполагал."
   ],
   "metadata": {
    "collapsed": false,
    "pycharm": {
     "name": "#%% md\n"
    }
   }
  },
  {
   "cell_type": "code",
   "execution_count": null,
   "outputs": [],
   "source": [],
   "metadata": {
    "collapsed": false,
    "pycharm": {
     "name": "#%%\n"
    }
   }
  }
 ],
 "metadata": {
  "kernelspec": {
   "display_name": "Python 3",
   "language": "python",
   "name": "python3"
  },
  "language_info": {
   "codemirror_mode": {
    "name": "ipython",
    "version": 2
   },
   "file_extension": ".py",
   "mimetype": "text/x-python",
   "name": "python",
   "nbconvert_exporter": "python",
   "pygments_lexer": "ipython2",
   "version": "2.7.6"
  }
 },
 "nbformat": 4,
 "nbformat_minor": 0
}